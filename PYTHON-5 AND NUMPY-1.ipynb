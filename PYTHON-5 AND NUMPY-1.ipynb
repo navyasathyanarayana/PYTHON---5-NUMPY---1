{
 "cells": [
  {
   "cell_type": "markdown",
   "metadata": {},
   "source": [
    "# TASK1"
   ]
  },
  {
   "cell_type": "markdown",
   "metadata": {},
   "source": [
    "1.Write a function to compute 5/0 and use try/except to catch the exceptions."
   ]
  },
  {
   "cell_type": "code",
   "execution_count": 14,
   "metadata": {},
   "outputs": [
    {
     "name": "stdout",
     "output_type": "stream",
     "text": [
      "enter the number:0\n",
      "The value of num cannot be 0 <class 'ZeroDivisionError'>\n",
      "finally done\n"
     ]
    }
   ],
   "source": [
    "import sys\n",
    "try:\n",
    "    num = int(input(\"enter the number:\"))\n",
    "    print(5/num)\n",
    "except:\n",
    "    print(\"The value of num cannot be 0\", sys.exc_info()[0])\n",
    "finally:\n",
    "    print(\"finally done\")"
   ]
  },
  {
   "cell_type": "markdown",
   "metadata": {},
   "source": [
    "2.Implement a Python program to generate all sentences where subject is in [\"Americans\",\n",
    "\"Indians\"] and verb is in [\"Play\", \"watch\"] and the object is in [\"Baseball\",\"cricket\"]."
   ]
  },
  {
   "cell_type": "code",
   "execution_count": 15,
   "metadata": {},
   "outputs": [
    {
     "name": "stdout",
     "output_type": "stream",
     "text": [
      "Americans play Baseball\n",
      "Americans play Cricket\n",
      "Americans watch Baseball\n",
      "Americans watch Cricket\n",
      "Indians play Baseball\n",
      "Indians play Cricket\n",
      "Indians watch Baseball\n",
      "Indians watch Cricket\n"
     ]
    }
   ],
   "source": [
    "subjects=[\"Americans\",\"Indians\"]\n",
    "verbs=[\" play \",\" watch \"]\n",
    "objects=[\"Baseball\",\"Cricket\"]\n",
    "for sub in subjects:\n",
    "    for verb in verbs:\n",
    "        for obj in objects:\n",
    "             print(sub+verb+obj)"
   ]
  },
  {
   "cell_type": "code",
   "execution_count": 16,
   "metadata": {},
   "outputs": [
    {
     "data": {
      "text/plain": [
       "['Americans play Baseball',\n",
       " 'Americans play Cricket',\n",
       " 'Americans watch Baseball',\n",
       " 'Americans watch Cricket',\n",
       " 'Indians play Baseball',\n",
       " 'Indians play Cricket',\n",
       " 'Indians watch Baseball',\n",
       " 'Indians watch Cricket']"
      ]
     },
     "execution_count": 16,
     "metadata": {},
     "output_type": "execute_result"
    }
   ],
   "source": [
    "result = [sub+verb+obj for sub in subjects for verb in verbs for obj in objects]\n",
    "result"
   ]
  },
  {
   "cell_type": "markdown",
   "metadata": {},
   "source": [
    "# TASK 2"
   ]
  },
  {
   "cell_type": "markdown",
   "metadata": {},
   "source": [
    "1.Write a function so that the columns of the output matrix are powers of the input vector.The order of the powers is determined by the increasing boolean argument. Specifically, when increasing is False, the i-th output column is the input vector raised element-wise to the power of N - i - 1."
   ]
  },
  {
   "cell_type": "code",
   "execution_count": 17,
   "metadata": {},
   "outputs": [
    {
     "data": {
      "text/plain": [
       "array([[  1,   1,   1,   1],\n",
       "       [  8,   4,   2,   1],\n",
       "       [ 27,   9,   3,   1],\n",
       "       [125,  25,   5,   1]])"
      ]
     },
     "execution_count": 17,
     "metadata": {},
     "output_type": "execute_result"
    }
   ],
   "source": [
    "import numpy as np\n",
    "x = np.array([1, 2, 3, 5])\n",
    "array1 = np.vander(x, increasing = False)\n",
    "array1"
   ]
  },
  {
   "cell_type": "code",
   "execution_count": 18,
   "metadata": {},
   "outputs": [
    {
     "data": {
      "text/plain": [
       "array([[  1,   1,   1,   1],\n",
       "       [  8,   4,   2,   1],\n",
       "       [ 27,   9,   3,   1],\n",
       "       [125,  25,   5,   1]], dtype=int32)"
      ]
     },
     "execution_count": 18,
     "metadata": {},
     "output_type": "execute_result"
    }
   ],
   "source": [
    "x = np.array([1, 2, 3, 5])\n",
    "N=4\n",
    "array2 = np.column_stack([x**(N-1-i) for i in range(N)])\n",
    "array2"
   ]
  },
  {
   "cell_type": "code",
   "execution_count": 19,
   "metadata": {},
   "outputs": [
    {
     "data": {
      "text/plain": [
       "array([[  1,   1,   1,   1],\n",
       "       [  8,   4,   2,   1],\n",
       "       [ 27,   9,   3,   1],\n",
       "       [125,  25,   5,   1]])"
      ]
     },
     "execution_count": 19,
     "metadata": {},
     "output_type": "execute_result"
    }
   ],
   "source": [
    "array3 = np.vander(x, N)\n",
    "array3"
   ]
  },
  {
   "cell_type": "code",
   "execution_count": 20,
   "metadata": {},
   "outputs": [
    {
     "data": {
      "text/plain": [
       "array([[  1,   1,   1,   1],\n",
       "       [  1,   2,   4,   8],\n",
       "       [  1,   3,   9,  27],\n",
       "       [  1,   5,  25, 125]])"
      ]
     },
     "execution_count": 20,
     "metadata": {},
     "output_type": "execute_result"
    }
   ],
   "source": [
    "array4 = np.vander(x, increasing=True)\n",
    "array4"
   ]
  }
 ],
 "metadata": {
  "kernelspec": {
   "display_name": "Python 3",
   "language": "python",
   "name": "python3"
  },
  "language_info": {
   "codemirror_mode": {
    "name": "ipython",
    "version": 3
   },
   "file_extension": ".py",
   "mimetype": "text/x-python",
   "name": "python",
   "nbconvert_exporter": "python",
   "pygments_lexer": "ipython3",
   "version": "3.6.4"
  }
 },
 "nbformat": 4,
 "nbformat_minor": 2
}
